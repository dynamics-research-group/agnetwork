{
 "cells": [
  {
   "cell_type": "code",
   "execution_count": 36,
   "metadata": {},
   "outputs": [
    {
     "name": "stdout",
     "output_type": "stream",
     "text": [
      "/Users/Julian/Documents/WorkDocuments/Irreducible Element/IE models/adjacency-list-json/Castledawson_Deck_Bridge.json\n",
      "/Users/Julian/Documents/WorkDocuments/Irreducible Element/IE models/adjacency-list-json/Drumderg_Footbridge.json\n",
      "/Users/Julian/Documents/WorkDocuments/Irreducible Element/IE models/adjacency-list-json/Baker_Bridge.json\n",
      "/Users/Julian/Documents/WorkDocuments/Irreducible Element/IE models/adjacency-list-json/Toome_Arch_Bridge.json\n",
      "/Users/Julian/Documents/WorkDocuments/Irreducible Element/IE models/adjacency-list-json/Humber_Bridge.json\n",
      "/Users/Julian/Documents/WorkDocuments/Irreducible Element/IE models/adjacency-list-json/Randallstown_West_Deck_Bridge.json\n",
      "/Users/Julian/Documents/WorkDocuments/Irreducible Element/IE models/adjacency-list-json/Brough_Road_Footbridge.json\n",
      "/Users/Julian/Documents/WorkDocuments/Irreducible Element/IE models/adjacency-list-json/Bosphorous_Original.json\n"
     ]
    }
   ],
   "source": [
    "from IEimport.IEimport import import_IE_from_excel\n",
    "from IEimport.IEimport import generate_graph_from_json\n",
    "import numpy as np\n",
    "import json\n",
    "\n",
    "excel_directory = \"/Users/Julian/Documents/WorkDocuments/Irreducible Element/IE models/Excel/04-12-20/\"\n",
    "json_directory = \"/Users/Julian/Documents/WorkDocuments/Irreducible Element/IE models/adjacency-list-json/\"\n",
    "\n",
    "bridge_list = ['Castledawson_Deck_Bridge','Drumderg_Footbridge','Baker_Bridge','Toome_Arch_Bridge','Humber_Bridge','Randallstown_West_Deck_Bridge','Brough_Road_Footbridge','Bosphorous_Original']\n",
    "# bridge_list = ['Castledawson_Deck_Bridge']\n",
    "\n",
    "dict_of_adjacency_matrices = {bridge : {} for bridge in bridge_list}\n",
    "\n",
    "for bridge in bridge_list:\n",
    "\timport_IE_from_excel(bridge, f\"{excel_directory}{bridge}_IEM.xlsx\", json_directory)\n",
    "\tattributed_graph = generate_graph_from_json(f\"{json_directory}{bridge}.json\")\n",
    "\tgraph = attributed_graph[\"graph\"]\n",
    "\n",
    "\tnode_list = list(graph.keys())\n",
    "\tnumber_of_nodes = len(node_list)\n",
    "\tadjacency_matrix = np.zeros((number_of_nodes, number_of_nodes))\n",
    "\tneighbourhoods = graph.values()\n",
    "\n",
    "\tfor i, neighbourhood in enumerate(neighbourhoods):\n",
    "\t\tfor node in neighbourhood:\n",
    "\t\t\tj = node_list.index(node)\n",
    "\t\t\tadjacency_matrix[i][j] = 1\n",
    "\t\n",
    "\tdict_of_adjacency_matrices[str(bridge)] = {\"list of nodes\" : node_list,\n",
    "\t\t\t\t\t\t\t\t\t\t\t\"adjacency matrix\" : adjacency_matrix.tolist()}\n",
    "\t\n",
    "with open(f\"{json_directory}adjacency-matrices.json\", \"w\") as outfile:\n",
    "\tjson.dump(dict_of_adjacency_matrices, outfile, indent=4)\n",
    "\t\n",
    "\n",
    "\t\t\n",
    "\n",
    "\n",
    "\t"
   ]
  }
 ],
 "metadata": {
  "interpreter": {
   "hash": "f6138c0efd5e477a1590f686aa26798ffd1d338e497fd4adb5aabdf02dd77ae9"
  },
  "kernelspec": {
   "display_name": "Python 3.7.6 ('base')",
   "language": "python",
   "name": "python3"
  },
  "language_info": {
   "codemirror_mode": {
    "name": "ipython",
    "version": 3
   },
   "file_extension": ".py",
   "mimetype": "text/x-python",
   "name": "python",
   "nbconvert_exporter": "python",
   "pygments_lexer": "ipython3",
   "version": "3.7.6"
  },
  "orig_nbformat": 4
 },
 "nbformat": 4,
 "nbformat_minor": 2
}
