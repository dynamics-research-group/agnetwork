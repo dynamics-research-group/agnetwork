{
 "cells": [
  {
   "cell_type": "code",
   "execution_count": 12,
   "metadata": {},
   "outputs": [
    {
     "name": "stdout",
     "output_type": "stream",
     "text": [
      "/Users/Julian/Documents/WorkDocuments/Irreducible Element/IE models/adjacency-list-json/Castledawson_Deck_Bridge.json\n",
      "<class 'dict'>\n"
     ]
    }
   ],
   "source": [
    "from IEimport.IEimport import import_IE_from_excel\n",
    "from IEimport.IEimport import generate_graph_from_json\n",
    "\n",
    "excel_directory = \"/Users/Julian/Documents/WorkDocuments/Irreducible Element/IE models/Excel/04-12-20/\"\n",
    "json_directory = \"/Users/Julian/Documents/WorkDocuments/Irreducible Element/IE models/adjacency-list-json/\"\n",
    "\n",
    "# bridge_list = ['Castledawson_Deck_Bridge','Drumderg_Footbridge','Baker_Bridge','Toome_Arch_Bridge','Humber_Bridge','Randallstown_West_Deck_Bridge','Brough_Road_Footbridge','Bosphorous_Original']\n",
    "bridge_list = ['Castledawson_Deck_Bridge']\n",
    "\n",
    "for bridge in bridge_list:\n",
    "\timport_IE_from_excel(bridge, f\"{excel_directory}{bridge}_IEM.xlsx\", json_directory)\n",
    "\tattributed_graph = generate_graph_from_json(f\"{json_directory}{bridge}.json\")\n",
    "\tgraph = attributed_graph[\"graph\"]\n",
    "\tprint(type(graph))\n",
    "\t"
   ]
  }
 ],
 "metadata": {
  "interpreter": {
   "hash": "f6138c0efd5e477a1590f686aa26798ffd1d338e497fd4adb5aabdf02dd77ae9"
  },
  "kernelspec": {
   "display_name": "Python 3.7.6 ('base')",
   "language": "python",
   "name": "python3"
  },
  "language_info": {
   "codemirror_mode": {
    "name": "ipython",
    "version": 3
   },
   "file_extension": ".py",
   "mimetype": "text/x-python",
   "name": "python",
   "nbconvert_exporter": "python",
   "pygments_lexer": "ipython3",
   "version": "3.7.6"
  },
  "orig_nbformat": 4
 },
 "nbformat": 4,
 "nbformat_minor": 2
}
