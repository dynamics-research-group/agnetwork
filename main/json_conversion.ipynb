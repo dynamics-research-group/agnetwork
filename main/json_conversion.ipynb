{
 "cells": [
  {
   "cell_type": "code",
   "execution_count": 11,
   "source": [
    "import time\n",
    "import json\n",
    "\n",
    "timestamp_conversion_factor = 10**9\n",
    "\n",
    "json_import_directory = \"/Users/Julian/Documents/WorkDocuments/Irreducible Element/IE models/json/\"\n",
    "json_export_directory = \"/Users/Julian/Documents/WorkDocuments/Irreducible Element/IE models/valid-json/\"\n",
    "\n",
    "json_files_to_convert = [{\"name\" : \"Aeroplane 1.json\", \n",
    "\t\t\t\t\t\t  \"type\":\"grounded\"}]\n",
    "\n",
    "population = \"test\"\n",
    "\n",
    "for json_file in json_files_to_convert:\n",
    "\tprint(json_file)\n",
    "\tfile_path = f\"{json_import_directory}{json_file['name']}\"\n",
    "\twith open(file_path, \"r\") as infile:\n",
    "\t\told_json = json.load(infile)\n",
    "\n",
    "\tvalid_json = {}\n",
    "\n",
    "\ttimestamp = time.time() * timestamp_conversion_factor\n",
    "\tvalid_json[\"timestamp\"] = timestamp\n",
    "\n",
    "\tvalid_json[\"population\"] = population\n",
    "\n",
    "\ttry:\n",
    "\t\tvalid_json[\"name\"] = old_json[\"name\"]\n",
    "\texcept NameError:\n",
    "\t\tprint(\"name not defined for the chosen structure\")\n",
    "\n",
    "\tif \"irreducible_element_model\" in old_json:\n",
    "\t\tvalid_json[\"models\"] = {\"irreducibleElement\": \n",
    "\t\t\t\t\t\t\t\t\t{\"type\": json_file['type']}\n",
    "\t\t\t\t\t\t\t\t}\n",
    "\n",
    "\t\t\n",
    "\n",
    "\n",
    "\twith open (f\"{json_export_directory}/valid-{json_file['name']}\", \"w\") as outfile:\n",
    "\t\tjson.dump(valid_json, outfile, indent=4)\n",
    "\t\n",
    "\n"
   ],
   "outputs": [
    {
     "output_type": "stream",
     "name": "stdout",
     "text": [
      "{'name': 'Aeroplane 1.json', 'type': 'grounded'}\n"
     ]
    }
   ],
   "metadata": {}
  }
 ],
 "metadata": {
  "orig_nbformat": 4,
  "language_info": {
   "name": "python",
   "version": "3.7.6",
   "mimetype": "text/x-python",
   "codemirror_mode": {
    "name": "ipython",
    "version": 3
   },
   "pygments_lexer": "ipython3",
   "nbconvert_exporter": "python",
   "file_extension": ".py"
  },
  "kernelspec": {
   "name": "python3",
   "display_name": "Python 3.7.6 64-bit ('base': conda)"
  },
  "interpreter": {
   "hash": "332dc4888004ca6189e3d6598d6be570e030a25a928a0c3e356ee856b306fe05"
  }
 },
 "nbformat": 4,
 "nbformat_minor": 2
}