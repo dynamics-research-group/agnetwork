{
 "cells": [
  {
   "cell_type": "code",
   "execution_count": 8,
   "source": [
    "import time\n",
    "import json\n",
    "\n",
    "timestamp_conversion_factor = 10**9\n",
    "\n",
    "json_import_directory = \"/Users/Julian/Documents/WorkDocuments/Irreducible Element/IE models/json/\"\n",
    "json_export_directory = \"/Users/Julian/Documents/WorkDocuments/Irreducible Element/IE models/valid-json/\"\n",
    "\n",
    "json_files_to_convert = [\"Aeroplane 1.json\"]\n",
    "\n",
    "population = \"test\"\n",
    "\n",
    "for file_name in json_files_to_convert:\n",
    "\tfile_path = f\"{json_import_directory}{file_name}\"\n",
    "\twith open(file_path, \"r\") as infile:\n",
    "\t\told_json = json.load(infile)\n",
    "\n",
    "\tvalid_json = {}\n",
    "\n",
    "\ttimestamp = time.time() * timestamp_conversion_factor\n",
    "\tvalid_json[\"timestamp\"] = timestamp\n",
    "\n",
    "\tvalid_json[\"population\"] = population\n",
    "\n",
    "\ttry:\n",
    "\t\tvalid_json[\"name\"] = old_json[\"name\"]\n",
    "\texcept NameError:\n",
    "\t\tprint(\"name not defined for the chosen structure\")\n",
    "\n",
    "\tif \"irreducible_element_model\" in old_json:\n",
    "\t\tvalid_json[\"models\"] = {\"irreducibleElement\": \n",
    "\t\t\t\t\t\t\t\t\t{\"type\": \"free\"}\n",
    "\t\t\t\t\t\t\t\t}\n",
    "\n",
    "\n",
    "\twith open (f\"{json_export_directory}/{file_name}\", \"w\") as outfile:\n",
    "\t\tjson.dump(valid_json, outfile, indent=4)\n",
    "\t\n",
    "\n"
   ],
   "outputs": [
    {
     "output_type": "error",
     "ename": "KeyError",
     "evalue": "'models'",
     "traceback": [
      "\u001b[0;31m---------------------------------------------------------------------------\u001b[0m",
      "\u001b[0;31mKeyError\u001b[0m                                  Traceback (most recent call last)",
      "\u001b[0;32m<ipython-input-8-e5e48cc869b4>\u001b[0m in \u001b[0;36m<module>\u001b[0;34m\u001b[0m\n\u001b[1;32m     29\u001b[0m \u001b[0;34m\u001b[0m\u001b[0m\n\u001b[1;32m     30\u001b[0m         \u001b[0;32mif\u001b[0m \u001b[0;34m\"irreducible_element_model\"\u001b[0m \u001b[0;32min\u001b[0m \u001b[0mold_json\u001b[0m\u001b[0;34m:\u001b[0m\u001b[0;34m\u001b[0m\u001b[0;34m\u001b[0m\u001b[0m\n\u001b[0;32m---> 31\u001b[0;31m                 \u001b[0mvalid_json\u001b[0m\u001b[0;34m[\u001b[0m\u001b[0;34m\"models\"\u001b[0m\u001b[0;34m]\u001b[0m\u001b[0;34m[\u001b[0m\u001b[0;34m\"irreducibleElement\"\u001b[0m\u001b[0;34m]\u001b[0m\u001b[0;34m[\u001b[0m\u001b[0;34m\"type\"\u001b[0m\u001b[0;34m]\u001b[0m \u001b[0;34m=\u001b[0m \u001b[0;34m\"free\"\u001b[0m\u001b[0;34m\u001b[0m\u001b[0;34m\u001b[0m\u001b[0m\n\u001b[0m\u001b[1;32m     32\u001b[0m \u001b[0;34m\u001b[0m\u001b[0m\n\u001b[1;32m     33\u001b[0m \u001b[0;34m\u001b[0m\u001b[0m\n",
      "\u001b[0;31mKeyError\u001b[0m: 'models'"
     ]
    }
   ],
   "metadata": {}
  }
 ],
 "metadata": {
  "orig_nbformat": 4,
  "language_info": {
   "name": "python",
   "version": "3.7.6",
   "mimetype": "text/x-python",
   "codemirror_mode": {
    "name": "ipython",
    "version": 3
   },
   "pygments_lexer": "ipython3",
   "nbconvert_exporter": "python",
   "file_extension": ".py"
  },
  "kernelspec": {
   "name": "python3",
   "display_name": "Python 3.7.6 64-bit ('base': conda)"
  },
  "interpreter": {
   "hash": "332dc4888004ca6189e3d6598d6be570e030a25a928a0c3e356ee856b306fe05"
  }
 },
 "nbformat": 4,
 "nbformat_minor": 2
}