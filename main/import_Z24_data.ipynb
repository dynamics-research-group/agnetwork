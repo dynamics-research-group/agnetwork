{
 "cells": [
  {
   "cell_type": "code",
   "execution_count": null,
   "metadata": {},
   "outputs": [],
   "source": [
    "import os\n",
    "import datetime\n",
    "\n",
    "first_day = datetime.datetime(1997,11,10,14)\n",
    "day_offset = {\"A\": -2, \"B\": -1, \"C\": 0, \"D\": 1, \"E\": 2, \"F\": 3, \"G\": 4}\n",
    "\n",
    "main_dir = \"/Users/Julian/Documents/WorkDocuments/Z24-S101-mini-project/S101-and-Z24-demonstrator/Z24_bridge_KUL/accelerations\"\n",
    "\n",
    "sub_dirs = [\"/Z24ems1\", \"/Z24ems2\", \"/Z24ems3\"]\n",
    "\n",
    "# find data directories in first sub directory\n",
    "data_dir = next(os.walk(f\"{main_dir}{sub_dirs[0]}\"))[1]\n",
    "\n",
    "# find data files withing the first data directory in the first sub directory\n",
    "data_files = next(os.walk(f\"{main_dir}{sub_dirs[0]}/{data_dir[0]}\"))[2]\n",
    "\n",
    "# print week, day, hour info for the data directory in question\n",
    "week = data_dir[0][0:2]\n",
    "day = data_dir[0][2]\n",
    "hour = data_dir[0][3:]\n",
    "print(f\"week : {week}\\nday : {day}\\nhour : {hour}\")\n",
    "\n",
    "# calculate the day and time that the data was collected on\n",
    "days_into_project = datetime.timedelta(hours = int(hour) - 14,days = day_offset[day], weeks = int(week) - 1)\n",
    "new_date = first_day + days_into_project\n",
    "print(new_date)\n",
    "\n",
    "with open(f\"{main_dir}{sub_dirs[0]}/{data_dir[0]}/{data_files[0]}\") as file:\n",
    "\tprint(f\"{main_dir}{sub_dirs[0]}/{data_dir[0]}/{data_files[0]}\")\n",
    "\tend_reached = False\n",
    "\tfor i, line in enumerate(file):\n",
    "\t\tif i == 2:\n",
    "\t\t\tprint(f\"time interval: {line}\")\n",
    "\t\telif i >= 3:\n",
    "\t\t\tpass\n",
    "\t\tif i == 65538:\n",
    "\t\t\tprint(f\"final sample is: {line}\")\n",
    "\t\t\tend_reached = True\n",
    "\t\tif line.startswith(\"Segment #1 Start\"):\n",
    "\t\t\tprint(line)\n",
    "\t\t\tsegment_start_str = line.replace(\"Segment #1 Start :\",\"\").replace(\"\\n\", \"\")\n",
    "\t\t\tsegment_start_date_time = datetime.datetime.strptime(segment_start_str, \"%a %b %d %H:%M:%S %Y\")\n",
    "\t\t\tprint(segment_start_date_time)\n",
    "\n",
    "for dir in sub_dirs:\n",
    "\tdata_dirs = next(os.walk(f\"{main_dir}{dir}\"))[1]\n",
    "\tfor dir in data_dirs:\n",
    "\t\tpass"
   ]
  }
 ],
 "metadata": {
  "kernelspec": {
   "display_name": "Python 3.7.6 ('base')",
   "language": "python",
   "name": "python3"
  },
  "language_info": {
   "name": "python",
   "version": "3.7.6"
  },
  "orig_nbformat": 4,
  "vscode": {
   "interpreter": {
    "hash": "f6138c0efd5e477a1590f686aa26798ffd1d338e497fd4adb5aabdf02dd77ae9"
   }
  }
 },
 "nbformat": 4,
 "nbformat_minor": 2
}
