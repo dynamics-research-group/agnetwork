{
 "cells": [
  {
   "cell_type": "code",
   "execution_count": 47,
   "metadata": {},
   "outputs": [
    {
     "name": "stdout",
     "output_type": "stream",
     "text": [
      "['07E0105.aaa', '07E0110.aaa', '07E0112.aaa', '07E0106.aaa', '07E0107.aaa', '07E0103.aaa', '07E0116.aaa', '07E0114.aaa']\n",
      "<class 'list'>\n"
     ]
    },
    {
     "ename": "TypeError",
     "evalue": "Object of type Timestamp is not JSON serializable",
     "output_type": "error",
     "traceback": [
      "\u001b[0;31m---------------------------------------------------------------------------\u001b[0m",
      "\u001b[0;31mTypeError\u001b[0m                                 Traceback (most recent call last)",
      "\u001b[0;32m<ipython-input-47-4274c25dc175>\u001b[0m in \u001b[0;36m<module>\u001b[0;34m\u001b[0m\n\u001b[1;32m     88\u001b[0m \u001b[0;34m\u001b[0m\u001b[0m\n\u001b[1;32m     89\u001b[0m         \u001b[0;32mwith\u001b[0m \u001b[0mopen\u001b[0m \u001b[0;34m(\u001b[0m\u001b[0;34mf\"{export_directory}/Z24-{index}.json\"\u001b[0m\u001b[0;34m,\u001b[0m \u001b[0;34m\"w\"\u001b[0m\u001b[0;34m)\u001b[0m \u001b[0;32mas\u001b[0m \u001b[0moutfile\u001b[0m\u001b[0;34m:\u001b[0m\u001b[0;34m\u001b[0m\u001b[0;34m\u001b[0m\u001b[0m\n\u001b[0;32m---> 90\u001b[0;31m                 \u001b[0mjson\u001b[0m\u001b[0;34m.\u001b[0m\u001b[0mdump\u001b[0m\u001b[0;34m(\u001b[0m\u001b[0moutput_json\u001b[0m\u001b[0;34m,\u001b[0m \u001b[0moutfile\u001b[0m\u001b[0;34m,\u001b[0m \u001b[0mindent\u001b[0m\u001b[0;34m=\u001b[0m\u001b[0;36m4\u001b[0m\u001b[0;34m)\u001b[0m\u001b[0;34m\u001b[0m\u001b[0;34m\u001b[0m\u001b[0m\n\u001b[0m",
      "\u001b[0;32m~/opt/anaconda3/lib/python3.7/json/__init__.py\u001b[0m in \u001b[0;36mdump\u001b[0;34m(obj, fp, skipkeys, ensure_ascii, check_circular, allow_nan, cls, indent, separators, default, sort_keys, **kw)\u001b[0m\n\u001b[1;32m    177\u001b[0m     \u001b[0;31m# could accelerate with writelines in some versions of Python, at\u001b[0m\u001b[0;34m\u001b[0m\u001b[0;34m\u001b[0m\u001b[0;34m\u001b[0m\u001b[0m\n\u001b[1;32m    178\u001b[0m     \u001b[0;31m# a debuggability cost\u001b[0m\u001b[0;34m\u001b[0m\u001b[0;34m\u001b[0m\u001b[0;34m\u001b[0m\u001b[0m\n\u001b[0;32m--> 179\u001b[0;31m     \u001b[0;32mfor\u001b[0m \u001b[0mchunk\u001b[0m \u001b[0;32min\u001b[0m \u001b[0miterable\u001b[0m\u001b[0;34m:\u001b[0m\u001b[0;34m\u001b[0m\u001b[0;34m\u001b[0m\u001b[0m\n\u001b[0m\u001b[1;32m    180\u001b[0m         \u001b[0mfp\u001b[0m\u001b[0;34m.\u001b[0m\u001b[0mwrite\u001b[0m\u001b[0;34m(\u001b[0m\u001b[0mchunk\u001b[0m\u001b[0;34m)\u001b[0m\u001b[0;34m\u001b[0m\u001b[0;34m\u001b[0m\u001b[0m\n\u001b[1;32m    181\u001b[0m \u001b[0;34m\u001b[0m\u001b[0m\n",
      "\u001b[0;32m~/opt/anaconda3/lib/python3.7/json/encoder.py\u001b[0m in \u001b[0;36m_iterencode\u001b[0;34m(o, _current_indent_level)\u001b[0m\n\u001b[1;32m    429\u001b[0m             \u001b[0;32myield\u001b[0m \u001b[0;32mfrom\u001b[0m \u001b[0m_iterencode_list\u001b[0m\u001b[0;34m(\u001b[0m\u001b[0mo\u001b[0m\u001b[0;34m,\u001b[0m \u001b[0m_current_indent_level\u001b[0m\u001b[0;34m)\u001b[0m\u001b[0;34m\u001b[0m\u001b[0;34m\u001b[0m\u001b[0m\n\u001b[1;32m    430\u001b[0m         \u001b[0;32melif\u001b[0m \u001b[0misinstance\u001b[0m\u001b[0;34m(\u001b[0m\u001b[0mo\u001b[0m\u001b[0;34m,\u001b[0m \u001b[0mdict\u001b[0m\u001b[0;34m)\u001b[0m\u001b[0;34m:\u001b[0m\u001b[0;34m\u001b[0m\u001b[0;34m\u001b[0m\u001b[0m\n\u001b[0;32m--> 431\u001b[0;31m             \u001b[0;32myield\u001b[0m \u001b[0;32mfrom\u001b[0m \u001b[0m_iterencode_dict\u001b[0m\u001b[0;34m(\u001b[0m\u001b[0mo\u001b[0m\u001b[0;34m,\u001b[0m \u001b[0m_current_indent_level\u001b[0m\u001b[0;34m)\u001b[0m\u001b[0;34m\u001b[0m\u001b[0;34m\u001b[0m\u001b[0m\n\u001b[0m\u001b[1;32m    432\u001b[0m         \u001b[0;32melse\u001b[0m\u001b[0;34m:\u001b[0m\u001b[0;34m\u001b[0m\u001b[0;34m\u001b[0m\u001b[0m\n\u001b[1;32m    433\u001b[0m             \u001b[0;32mif\u001b[0m \u001b[0mmarkers\u001b[0m \u001b[0;32mis\u001b[0m \u001b[0;32mnot\u001b[0m \u001b[0;32mNone\u001b[0m\u001b[0;34m:\u001b[0m\u001b[0;34m\u001b[0m\u001b[0;34m\u001b[0m\u001b[0m\n",
      "\u001b[0;32m~/opt/anaconda3/lib/python3.7/json/encoder.py\u001b[0m in \u001b[0;36m_iterencode_dict\u001b[0;34m(dct, _current_indent_level)\u001b[0m\n\u001b[1;32m    403\u001b[0m                 \u001b[0;32melse\u001b[0m\u001b[0;34m:\u001b[0m\u001b[0;34m\u001b[0m\u001b[0;34m\u001b[0m\u001b[0m\n\u001b[1;32m    404\u001b[0m                     \u001b[0mchunks\u001b[0m \u001b[0;34m=\u001b[0m \u001b[0m_iterencode\u001b[0m\u001b[0;34m(\u001b[0m\u001b[0mvalue\u001b[0m\u001b[0;34m,\u001b[0m \u001b[0m_current_indent_level\u001b[0m\u001b[0;34m)\u001b[0m\u001b[0;34m\u001b[0m\u001b[0;34m\u001b[0m\u001b[0m\n\u001b[0;32m--> 405\u001b[0;31m                 \u001b[0;32myield\u001b[0m \u001b[0;32mfrom\u001b[0m \u001b[0mchunks\u001b[0m\u001b[0;34m\u001b[0m\u001b[0;34m\u001b[0m\u001b[0m\n\u001b[0m\u001b[1;32m    406\u001b[0m         \u001b[0;32mif\u001b[0m \u001b[0mnewline_indent\u001b[0m \u001b[0;32mis\u001b[0m \u001b[0;32mnot\u001b[0m \u001b[0;32mNone\u001b[0m\u001b[0;34m:\u001b[0m\u001b[0;34m\u001b[0m\u001b[0;34m\u001b[0m\u001b[0m\n\u001b[1;32m    407\u001b[0m             \u001b[0m_current_indent_level\u001b[0m \u001b[0;34m-=\u001b[0m \u001b[0;36m1\u001b[0m\u001b[0;34m\u001b[0m\u001b[0;34m\u001b[0m\u001b[0m\n",
      "\u001b[0;32m~/opt/anaconda3/lib/python3.7/json/encoder.py\u001b[0m in \u001b[0;36m_iterencode\u001b[0;34m(o, _current_indent_level)\u001b[0m\n\u001b[1;32m    436\u001b[0m                     \u001b[0;32mraise\u001b[0m \u001b[0mValueError\u001b[0m\u001b[0;34m(\u001b[0m\u001b[0;34m\"Circular reference detected\"\u001b[0m\u001b[0;34m)\u001b[0m\u001b[0;34m\u001b[0m\u001b[0;34m\u001b[0m\u001b[0m\n\u001b[1;32m    437\u001b[0m                 \u001b[0mmarkers\u001b[0m\u001b[0;34m[\u001b[0m\u001b[0mmarkerid\u001b[0m\u001b[0;34m]\u001b[0m \u001b[0;34m=\u001b[0m \u001b[0mo\u001b[0m\u001b[0;34m\u001b[0m\u001b[0;34m\u001b[0m\u001b[0m\n\u001b[0;32m--> 438\u001b[0;31m             \u001b[0mo\u001b[0m \u001b[0;34m=\u001b[0m \u001b[0m_default\u001b[0m\u001b[0;34m(\u001b[0m\u001b[0mo\u001b[0m\u001b[0;34m)\u001b[0m\u001b[0;34m\u001b[0m\u001b[0;34m\u001b[0m\u001b[0m\n\u001b[0m\u001b[1;32m    439\u001b[0m             \u001b[0;32myield\u001b[0m \u001b[0;32mfrom\u001b[0m \u001b[0m_iterencode\u001b[0m\u001b[0;34m(\u001b[0m\u001b[0mo\u001b[0m\u001b[0;34m,\u001b[0m \u001b[0m_current_indent_level\u001b[0m\u001b[0;34m)\u001b[0m\u001b[0;34m\u001b[0m\u001b[0;34m\u001b[0m\u001b[0m\n\u001b[1;32m    440\u001b[0m             \u001b[0;32mif\u001b[0m \u001b[0mmarkers\u001b[0m \u001b[0;32mis\u001b[0m \u001b[0;32mnot\u001b[0m \u001b[0;32mNone\u001b[0m\u001b[0;34m:\u001b[0m\u001b[0;34m\u001b[0m\u001b[0;34m\u001b[0m\u001b[0m\n",
      "\u001b[0;32m~/opt/anaconda3/lib/python3.7/json/encoder.py\u001b[0m in \u001b[0;36mdefault\u001b[0;34m(self, o)\u001b[0m\n\u001b[1;32m    177\u001b[0m \u001b[0;34m\u001b[0m\u001b[0m\n\u001b[1;32m    178\u001b[0m         \"\"\"\n\u001b[0;32m--> 179\u001b[0;31m         raise TypeError(f'Object of type {o.__class__.__name__} '\n\u001b[0m\u001b[1;32m    180\u001b[0m                         f'is not JSON serializable')\n\u001b[1;32m    181\u001b[0m \u001b[0;34m\u001b[0m\u001b[0m\n",
      "\u001b[0;31mTypeError\u001b[0m: Object of type Timestamp is not JSON serializable"
     ]
    }
   ],
   "source": [
    "import os\n",
    "import datetime\n",
    "import json\n",
    "import numpy as np\n",
    "import pandas as pd\n",
    "\n",
    "timestamp_conversion_factor = 10**9\n",
    "export_directory = \"/Users/Julian/Documents/WorkDocuments/Z24-S101-mini-project/S101-and-Z24-demonstrator/Z24_bridge_KUL/channel-data-json\"\n",
    "\n",
    "first_day = datetime.datetime(1997,11,10,14)\n",
    "day_offset = {\"A\": -2, \"B\": -1, \"C\": 0, \"D\": 1, \"E\": 2, \"F\": 3, \"G\": 4}\n",
    "\n",
    "main_dir = \"/Users/Julian/Documents/WorkDocuments/Z24-S101-mini-project/S101-and-Z24-demonstrator/Z24_bridge_KUL/accelerations\"\n",
    "\n",
    "sub_dirs = [\"/Z24ems1\", \"/Z24ems2\", \"/Z24ems3\"]\n",
    "\n",
    "# find data directories in first sub directory\n",
    "data_dir = next(os.walk(f\"{main_dir}{sub_dirs[0]}\"))[1]\n",
    "# print week, day, hour info for the data directory in question\n",
    "week = data_dir[0][0:2]\n",
    "day = data_dir[0][2]\n",
    "hour = data_dir[0][3:]\n",
    "# print(f\"week: {week}\\nday: {day}\\nhour: {hour}\")\n",
    "# calculate the day and time that the data was collected on\n",
    "days_into_project = datetime.timedelta(hours = int(hour) - 14,days = day_offset[day], weeks = int(week) - 1)\n",
    "new_date = first_day + days_into_project\n",
    "# print(new_date)\n",
    "\n",
    "# find data files within the first data directory in the first sub directory\n",
    "data_files = next(os.walk(f\"{main_dir}{sub_dirs[0]}/{data_dir[0]}\"))[2]\n",
    "# find only the .aaa files and exclude the car log as its name is over 11 characters long\n",
    "acceleration_files = [file for file in data_files if file.endswith(\".aaa\") and len(file) == 11]\n",
    "print(acceleration_files)\n",
    "channel_values = {}\n",
    "channel_units = [\"g\"] * len(acceleration_files)\n",
    "for j, acc_file in enumerate(acceleration_files):\n",
    "\twith open(f\"{main_dir}{sub_dirs[0]}/{data_dir[0]}/{acc_file}\") as file:\n",
    "\t\t# print(f\"current file: {main_dir}{sub_dirs[0]}/{data_dir[0]}/{acc_file}\")\n",
    "\t\tchannel_number = acc_file[5:7]\n",
    "\t\tchannel_values[channel_number] = []\n",
    "\t\t# print(f\"channel number: {channel_number}\")\n",
    "\t\tsample_time_offsets = []\n",
    "\t\tsample_values = []\n",
    "\t\tfor i, line in enumerate(file):\n",
    "\t\t\tif i == 2:\n",
    "\t\t\t\ttime_interval = float(line)\n",
    "\t\t\t\t# print(f\"time interval: {time_interval}\")\n",
    "\t\t\t# temporarily changed from 65539 to 10 to make it easier to debug\n",
    "\t\t\telif 8 > i >= 3:\n",
    "\t\t\t\tsample_number = i-2\n",
    "\t\t\t\tsample_time_offsets.append(datetime.timedelta(seconds = sample_number * time_interval))\n",
    "\t\t\t\tsample_values.append(float(line)) \n",
    "\t\t\t# if i == 65538:\n",
    "\t\t\t\t# print(f\"final sample (number {sample_number}) is: {float(line)}\")\n",
    "\t\t\tif line.startswith(\"Segment #1 Start\"):\n",
    "\t\t\t\tsegment_start_str = line.replace(\"Segment #1 Start :\",\"\").replace(\"\\n\", \"\")\n",
    "\t\t\t\tsegment_start_date_time = datetime.datetime.strptime(segment_start_str, \"%a %b %d %H:%M:%S %Y\")\n",
    "\t\t\t\t# print(f\"Segment #1 Start :{segment_start_date_time}\")\n",
    "\t\tchannel_values[channel_number] = sample_values\n",
    "\tif j == 0:\n",
    "\t\t# assuming that all samples are taken at the same across the channels\n",
    "\t\tsample_times = [segment_start_date_time + time_offset for time_offset in sample_time_offsets]\n",
    "\t\tsample_timestamps = [datetime.datetime.timestamp(sample_time) for sample_time in sample_times]\n",
    "\t\treformatted_sample_timestamps = [int(sample_timestamp * timestamp_conversion_factor) for sample_timestamp in sample_timestamps]\n",
    "\t\t# print(reformatted_sample_timestamps)\n",
    "\n",
    "all_channels_dataframe = pd.DataFrame(channel_values, reformatted_sample_timestamps)\n",
    "# print(all_channels_dataframe)\n",
    "\n",
    "for index, row in all_channels_dataframe.iterrows():\n",
    "\t# print(index)\n",
    "\tchannels = []\n",
    "\tfor channel_name in channel_values.keys():\n",
    "\t\tchannel_object = {\n",
    "\t\t\t\t\t\t\"name\": f\"channel-{channel_name}\",\n",
    "\t\t\t\t\t\t\"type\": \"acceleration\",\n",
    "\t\t\t\t\t\t\"unit\": \"g\",\n",
    "\t\t\t\t\t\t\"value\": np.format_float_positional(row[channel_name], trim='-')\n",
    "\t\t\t\t\t}\n",
    "\t\tchannels.append(channel_object)\n",
    "\n",
    "\toutput_json = {\n",
    "\t\t\t\t\"name\": \"Z24\",\n",
    "\t\t\t\t\"population\": \"realbridges\",\n",
    "\t\t\t\t\"timestamp\": index,\n",
    "\t\t\t\t\"channels\": channels\n",
    "\t\t\t}\n",
    "\n",
    "\twith open (f\"{export_directory}/Z24-{index}.json\", \"w\") as outfile:\n",
    "\t\tjson.dump(output_json, outfile, indent=4)\n"
   ]
  }
 ],
 "metadata": {
  "kernelspec": {
   "display_name": "Python 3.7.6 ('base')",
   "language": "python",
   "name": "python3"
  },
  "language_info": {
   "codemirror_mode": {
    "name": "ipython",
    "version": 3
   },
   "file_extension": ".py",
   "mimetype": "text/x-python",
   "name": "python",
   "nbconvert_exporter": "python",
   "pygments_lexer": "ipython3",
   "version": "3.7.6"
  },
  "orig_nbformat": 4,
  "vscode": {
   "interpreter": {
    "hash": "f6138c0efd5e477a1590f686aa26798ffd1d338e497fd4adb5aabdf02dd77ae9"
   }
  }
 },
 "nbformat": 4,
 "nbformat_minor": 2
}
