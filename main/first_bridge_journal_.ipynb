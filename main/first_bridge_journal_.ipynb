{
 "metadata": {
  "language_info": {
   "codemirror_mode": {
    "name": "ipython",
    "version": 3
   },
   "file_extension": ".py",
   "mimetype": "text/x-python",
   "name": "python",
   "nbconvert_exporter": "python",
   "pygments_lexer": "ipython3",
   "version": "3.7.6-final"
  },
  "orig_nbformat": 2,
  "kernelspec": {
   "name": "python3",
   "display_name": "Python 3"
  }
 },
 "nbformat": 4,
 "nbformat_minor": 2,
 "cells": [
  {
   "source": [
    "Import all of the bridges and create the corresponding file list"
   ],
   "cell_type": "markdown",
   "metadata": {}
  },
  {
   "cell_type": "code",
   "execution_count": 1,
   "metadata": {},
   "outputs": [],
   "source": [
    "from IEimport.IEimport import import_IE_from_excel\n",
    "from IEimport.IEimport import generate_graph_from_json\n",
    "\n",
    "excel_directory = \"/Users/Julian/Documents/WorkDocuments/Irreducible Element/IE models/Excel/\"\n",
    "json_directory = \"/Users/Julian/Documents/WorkDocuments/Irreducible Element/IE models/json/\"\n",
    "\n",
    "bridge_list = ['Castledawson','Randallstown','Drumderg','Brough_Road','Toome','Baker','Humber']\n",
    "file_list = []\n",
    "\n",
    "for bridge in bridge_list:\n",
    "    import_IE_from_excel(bridge, f\"{excel_directory}{bridge}.xlsx\")\n",
    "    generate_graph_from_json(f\"{json_directory}{bridge}.json\")\n",
    "    file_list.append(f\"{json_directory}{bridge}.json\")"
   ]
  },
  {
   "source": [
    "Calculate the full distance matrix for the reduced set of bridges (Table 1)"
   ],
   "cell_type": "markdown",
   "metadata": {}
  },
  {
   "cell_type": "code",
   "execution_count": 2,
   "metadata": {},
   "outputs": [
    {
     "output_type": "stream",
     "name": "stdout",
     "text": [
      "/Users/Julian/Documents/WorkDocuments/Irreducible Element/IE models/json/Castledawson.json\n",
      "/Users/Julian/Documents/WorkDocuments/Irreducible Element/IE models/json/Drumderg.json\n",
      "/Users/Julian/Documents/WorkDocuments/Irreducible Element/IE models/json/Toome.json\n",
      "/Users/Julian/Documents/WorkDocuments/Irreducible Element/IE models/json/Baker.json\n",
      "/Users/Julian/Documents/WorkDocuments/Irreducible Element/IE models/json/Humber.json\n",
      "Matching 1/5 and 1/5\n",
      "Matching 1/5 and 2/5\n",
      "Matching 1/5 and 3/5\n",
      "Matching 1/5 and 4/5\n",
      "Matching 1/5 and 5/5\n",
      "Matching 2/5 and 2/5\n",
      "Matching 2/5 and 3/5\n",
      "Matching 2/5 and 4/5\n",
      "Matching 2/5 and 5/5\n",
      "Matching 3/5 and 3/5\n",
      "Matching 3/5 and 4/5\n",
      "Matching 3/5 and 5/5\n",
      "Matching 4/5 and 4/5\n",
      "Matching 4/5 and 5/5\n",
      "Matching 5/5 and 5/5\n",
      "[[ 37.   9.   8.  10.   3.]\n",
      " [  9. 109.  10.  10.   3.]\n",
      " [  8.  10.  86.  26.   3.]\n",
      " [ 10.  10.  26.  77.   7.]\n",
      " [  3.   3.   3.   7. 476.]]\n",
      "[[1.         0.06569343 0.06956522 0.09615385 0.00588235]\n",
      " [0.06569343 1.         0.05405405 0.05681818 0.00515464]\n",
      " [0.06956522 0.05405405 1.         0.18978102 0.00536673]\n",
      " [0.09615385 0.05681818 0.18978102 1.         0.01282051]\n",
      " [0.00588235 0.00515464 0.00536673 0.01282051 1.        ]]\n"
     ]
    }
   ],
   "source": [
    "from comparison.backtracking import create_distance_matrix\n",
    "\n",
    "reduction = [1,0,1,0,1,1,1]\n",
    "Table1_file_list = [f for f, r in zip(file_list, reduction) if r]\n",
    "for entry in Table1_file_list:\n",
    "    print(entry)\n",
    "\n",
    "Table1_similarity_matrix, Table1_nodes_in_mcs = create_distance_matrix(Table1_file_list, nodes_option=True)\n",
    "print(Table1_nodes_in_mcs)\n",
    "print(Table1_similarity_matrix)"
   ]
  },
  {
   "cell_type": "code",
   "execution_count": null,
   "metadata": {},
   "outputs": [],
   "source": []
  }
 ]
}