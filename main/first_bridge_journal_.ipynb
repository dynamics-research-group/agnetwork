{
 "metadata": {
  "language_info": {
   "codemirror_mode": {
    "name": "ipython",
    "version": 3
   },
   "file_extension": ".py",
   "mimetype": "text/x-python",
   "name": "python",
   "nbconvert_exporter": "python",
   "pygments_lexer": "ipython3",
   "version": "3.7.6-final"
  },
  "orig_nbformat": 2,
  "kernelspec": {
   "name": "python3",
   "display_name": "Python 3"
  }
 },
 "nbformat": 4,
 "nbformat_minor": 2,
 "cells": [
  {
   "source": [
    "Import all of the bridges and create the corresponding file list"
   ],
   "cell_type": "markdown",
   "metadata": {}
  },
  {
   "cell_type": "code",
   "execution_count": 1,
   "metadata": {},
   "outputs": [
    {
     "output_type": "stream",
     "name": "stdout",
     "text": [
      "{'metadata': {}, 'type': 'regular'}\n"
     ]
    }
   ],
   "source": [
    "from IEimport.IEimport import import_IE_from_excel\n",
    "from IEimport.IEimport import generate_graph_from_json\n",
    "\n",
    "excel_directory = \"/Users/Julian/Documents/WorkDocuments/Irreducible Element/IE models/Excel/\"\n",
    "json_directory = \"/Users/Julian/Documents/WorkDocuments/Irreducible Element/IE models/json/\"\n",
    "\n",
    "bridge_list = ['Castledawson','Randallstown','Drumderg','Brough_Road','Toome','Baker','Humber']\n",
    "file_list = []\n",
    "\n",
    "for bridge in bridge_list:\n",
    "    import_IE_from_excel(bridge, f\"{excel_directory}{bridge}.xlsx\")\n",
    "    generate_graph_from_json(f\"{json_directory}{bridge}.json\")\n",
    "    file_list.append(f\"{json_directory}{bridge}.json\")"
   ]
  },
  {
   "cell_type": "code",
   "execution_count": null,
   "metadata": {},
   "outputs": [],
   "source": []
  }
 ]
}