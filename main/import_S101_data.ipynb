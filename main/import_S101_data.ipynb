{
 "cells": [
  {
   "cell_type": "code",
   "execution_count": 14,
   "metadata": {},
   "outputs": [
    {
     "name": "stdout",
     "output_type": "stream",
     "text": [
      "['channel-blau-laengs', 'channel-blau-quer', 'channel-blau-vertikal', 'channel-braun-laengs', 'channel-braun-quer', 'channel-braun-vertikal', 'channel-E1-laengs', 'channel-E1-quer', 'channel-E1-vertikal', 'channel-E2-laengs', 'channel-E2-quer', 'channel-E2-vertikal', 'channel-E3-laengs', 'channel-E3-quer', 'channel-E3-vertikal', 'channel-E4-laengs', 'channel-E4-quer', 'channel-E4-vertikal', 'channel-E5-laengs', 'channel-E5-quer', 'channel-E5-vertikal', 'channel-E6-laengs', 'channel-E6-quer', 'channel-E6-vertikal', 'channel-gelb-laengs', 'channel-gelb-quer', 'channel-gelb-vertikal', 'channel-gelbgruen-laengs', 'channel-gelbgruen-quer', 'channel-gelbgruen-vertikal', 'channel-gruen-laengs', 'channel-gruen-quer', 'channel-gruen-vertikal', 'channel-Laser-X', 'channel-Laser-Z', 'channel-Laser-Z-Glatt', 'channel-lila-laengs', 'channel-lila-quer', 'channel-lila-vertikal', 'channel-rot-laengs', 'channel-rot-quer', 'channel-rot-vertikal', 'channel-schwarz-laengs', 'channel-schwarz-quer', 'channel-schwarz-vertikal', 'channel-weiss-laengs', 'channel-weiss-quer', 'channel-weiss-vertikal']\n",
      "['g', 'g', 'g', 'g', 'g', 'g', 'g', 'g', 'g', 'g', 'g', 'g', 'g', 'g', 'g', 'g', 'g', 'g', 'g', 'g', 'g', 'g', 'g', 'g', 'g', 'g', 'g', 'g', 'g', 'g', 'g', 'g', 'g', 'V', 'V', 'V', 'g', 'g', 'g', 'g', 'g', 'g', 'g', 'g', 'g', 'g', 'g', 'g']\n",
      "['channel-blau-laengs', 'channel-blau-quer', 'channel-blau-vertikal', 'channel-braun-laengs', 'channel-braun-quer', 'channel-braun-vertikal', 'channel-E1-laengs', 'channel-E1-quer', 'channel-E1-vertikal', 'channel-E2-laengs', 'channel-E2-quer', 'channel-E2-vertikal', 'channel-E3-laengs', 'channel-E3-quer', 'channel-E3-vertikal', 'channel-E4-laengs', 'channel-E4-quer', 'channel-E4-vertikal', 'channel-E5-laengs', 'channel-E5-quer', 'channel-E5-vertikal', 'channel-E6-laengs', 'channel-E6-quer', 'channel-E6-vertikal', 'channel-gelb-laengs', 'channel-gelb-quer', 'channel-gelb-vertikal', 'channel-gelbgruen-laengs', 'channel-gelbgruen-quer', 'channel-gelbgruen-vertikal', 'channel-gruen-laengs', 'channel-gruen-quer', 'channel-gruen-vertikal', 'channel-Laser-X', 'channel-Laser-Z', 'channel-Laser-Z-Glatt', 'channel-lila-laengs', 'channel-lila-quer', 'channel-lila-vertikal', 'channel-rot-laengs', 'channel-rot-quer', 'channel-rot-vertikal', 'channel-schwarz-laengs', 'channel-schwarz-quer', 'channel-schwarz-vertikal', 'channel-weiss-laengs', 'channel-weiss-quer', 'channel-weiss-vertikal']\n",
      "['g', 'g', 'g', 'g', 'g', 'g', 'g', 'g', 'g', 'g', 'g', 'g', 'g', 'g', 'g', 'g', 'g', 'g', 'g', 'g', 'g', 'g', 'g', 'g', 'g', 'g', 'g', 'g', 'g', 'g', 'g', 'g', 'g', 'V', 'V', 'V', 'g', 'g', 'g', 'g', 'g', 'g', 'g', 'g', 'g', 'g', 'g', 'g']\n",
      "['channel-blau-laengs', 'channel-blau-quer', 'channel-blau-vertikal', 'channel-braun-laengs', 'channel-braun-quer', 'channel-braun-vertikal', 'channel-E1-laengs', 'channel-E1-quer', 'channel-E1-vertikal', 'channel-E2-laengs', 'channel-E2-quer', 'channel-E2-vertikal', 'channel-E3-laengs', 'channel-E3-quer', 'channel-E3-vertikal', 'channel-E4-laengs', 'channel-E4-quer', 'channel-E4-vertikal', 'channel-E5-laengs', 'channel-E5-quer', 'channel-E5-vertikal', 'channel-E6-laengs', 'channel-E6-quer', 'channel-E6-vertikal', 'channel-gelb-laengs', 'channel-gelb-quer', 'channel-gelb-vertikal', 'channel-gelbgruen-laengs', 'channel-gelbgruen-quer', 'channel-gelbgruen-vertikal', 'channel-gruen-laengs', 'channel-gruen-quer', 'channel-gruen-vertikal', 'channel-Laser-X', 'channel-Laser-Z', 'channel-Laser-Z-Glatt', 'channel-lila-laengs', 'channel-lila-quer', 'channel-lila-vertikal', 'channel-rot-laengs', 'channel-rot-quer', 'channel-rot-vertikal', 'channel-schwarz-laengs', 'channel-schwarz-quer', 'channel-schwarz-vertikal', 'channel-weiss-laengs', 'channel-weiss-quer', 'channel-weiss-vertikal']\n",
      "['g', 'g', 'g', 'g', 'g', 'g', 'g', 'g', 'g', 'g', 'g', 'g', 'g', 'g', 'g', 'g', 'g', 'g', 'g', 'g', 'g', 'g', 'g', 'g', 'g', 'g', 'g', 'g', 'g', 'g', 'g', 'g', 'g', 'V', 'V', 'V', 'g', 'g', 'g', 'g', 'g', 'g', 'g', 'g', 'g', 'g', 'g', 'g']\n",
      "['channel-blau-laengs', 'channel-blau-quer', 'channel-blau-vertikal', 'channel-braun-laengs', 'channel-braun-quer', 'channel-braun-vertikal', 'channel-E1-laengs', 'channel-E1-quer', 'channel-E1-vertikal', 'channel-E2-laengs', 'channel-E2-quer', 'channel-E2-vertikal', 'channel-E3-laengs', 'channel-E3-quer', 'channel-E3-vertikal', 'channel-E4-laengs', 'channel-E4-quer', 'channel-E4-vertikal', 'channel-E5-laengs', 'channel-E5-quer', 'channel-E5-vertikal', 'channel-E6-laengs', 'channel-E6-quer', 'channel-E6-vertikal', 'channel-gelb-laengs', 'channel-gelb-quer', 'channel-gelb-vertikal', 'channel-gelbgruen-laengs', 'channel-gelbgruen-quer', 'channel-gelbgruen-vertikal', 'channel-gruen-laengs', 'channel-gruen-quer', 'channel-gruen-vertikal', 'channel-Laser-X', 'channel-Laser-Z', 'channel-Laser-Z-Glatt', 'channel-lila-laengs', 'channel-lila-quer', 'channel-lila-vertikal', 'channel-rot-laengs', 'channel-rot-quer', 'channel-rot-vertikal', 'channel-schwarz-laengs', 'channel-schwarz-quer', 'channel-schwarz-vertikal', 'channel-weiss-laengs', 'channel-weiss-quer', 'channel-weiss-vertikal']\n",
      "['g', 'g', 'g', 'g', 'g', 'g', 'g', 'g', 'g', 'g', 'g', 'g', 'g', 'g', 'g', 'g', 'g', 'g', 'g', 'g', 'g', 'g', 'g', 'g', 'g', 'g', 'g', 'g', 'g', 'g', 'g', 'g', 'g', 'V', 'V', 'V', 'g', 'g', 'g', 'g', 'g', 'g', 'g', 'g', 'g', 'g', 'g', 'g']\n",
      "['channel-blau-laengs', 'channel-blau-quer', 'channel-blau-vertikal', 'channel-braun-laengs', 'channel-braun-quer', 'channel-braun-vertikal', 'channel-E1-laengs', 'channel-E1-quer', 'channel-E1-vertikal', 'channel-E2-laengs', 'channel-E2-quer', 'channel-E2-vertikal', 'channel-E3-laengs', 'channel-E3-quer', 'channel-E3-vertikal', 'channel-E4-laengs', 'channel-E4-quer', 'channel-E4-vertikal', 'channel-E5-laengs', 'channel-E5-quer', 'channel-E5-vertikal', 'channel-E6-laengs', 'channel-E6-quer', 'channel-E6-vertikal', 'channel-gelb-laengs', 'channel-gelb-quer', 'channel-gelb-vertikal', 'channel-gelbgruen-laengs', 'channel-gelbgruen-quer', 'channel-gelbgruen-vertikal', 'channel-gruen-laengs', 'channel-gruen-quer', 'channel-gruen-vertikal', 'channel-Laser-X', 'channel-Laser-Z', 'channel-Laser-Z-Glatt', 'channel-lila-laengs', 'channel-lila-quer', 'channel-lila-vertikal', 'channel-rot-laengs', 'channel-rot-quer', 'channel-rot-vertikal', 'channel-schwarz-laengs', 'channel-schwarz-quer', 'channel-schwarz-vertikal', 'channel-weiss-laengs', 'channel-weiss-quer', 'channel-weiss-vertikal']\n",
      "['g', 'g', 'g', 'g', 'g', 'g', 'g', 'g', 'g', 'g', 'g', 'g', 'g', 'g', 'g', 'g', 'g', 'g', 'g', 'g', 'g', 'g', 'g', 'g', 'g', 'g', 'g', 'g', 'g', 'g', 'g', 'g', 'g', 'V', 'V', 'V', 'g', 'g', 'g', 'g', 'g', 'g', 'g', 'g', 'g', 'g', 'g', 'g']\n",
      "['channel-blau-laengs', 'channel-blau-quer', 'channel-blau-vertikal', 'channel-braun-laengs', 'channel-braun-quer', 'channel-braun-vertikal', 'channel-E1-laengs', 'channel-E1-quer', 'channel-E1-vertikal', 'channel-E2-laengs', 'channel-E2-quer', 'channel-E2-vertikal', 'channel-E3-laengs', 'channel-E3-quer', 'channel-E3-vertikal', 'channel-E4-laengs', 'channel-E4-quer', 'channel-E4-vertikal', 'channel-E5-laengs', 'channel-E5-quer', 'channel-E5-vertikal', 'channel-E6-laengs', 'channel-E6-quer', 'channel-E6-vertikal', 'channel-gelb-laengs', 'channel-gelb-quer', 'channel-gelb-vertikal', 'channel-gelbgruen-laengs', 'channel-gelbgruen-quer', 'channel-gelbgruen-vertikal', 'channel-gruen-laengs', 'channel-gruen-quer', 'channel-gruen-vertikal', 'channel-Laser-X', 'channel-Laser-Z', 'channel-Laser-Z-Glatt', 'channel-lila-laengs', 'channel-lila-quer', 'channel-lila-vertikal', 'channel-rot-laengs', 'channel-rot-quer', 'channel-rot-vertikal', 'channel-schwarz-laengs', 'channel-schwarz-quer', 'channel-schwarz-vertikal', 'channel-weiss-laengs', 'channel-weiss-quer', 'channel-weiss-vertikal']\n",
      "['g', 'g', 'g', 'g', 'g', 'g', 'g', 'g', 'g', 'g', 'g', 'g', 'g', 'g', 'g', 'g', 'g', 'g', 'g', 'g', 'g', 'g', 'g', 'g', 'g', 'g', 'g', 'g', 'g', 'g', 'g', 'g', 'g', 'V', 'V', 'V', 'g', 'g', 'g', 'g', 'g', 'g', 'g', 'g', 'g', 'g', 'g', 'g']\n",
      "['channel-blau-laengs', 'channel-blau-quer', 'channel-blau-vertikal', 'channel-braun-laengs', 'channel-braun-quer', 'channel-braun-vertikal', 'channel-E1-laengs', 'channel-E1-quer', 'channel-E1-vertikal', 'channel-E2-laengs', 'channel-E2-quer', 'channel-E2-vertikal', 'channel-E3-laengs', 'channel-E3-quer', 'channel-E3-vertikal', 'channel-E4-laengs', 'channel-E4-quer', 'channel-E4-vertikal', 'channel-E5-laengs', 'channel-E5-quer', 'channel-E5-vertikal', 'channel-E6-laengs', 'channel-E6-quer', 'channel-E6-vertikal', 'channel-gelb-laengs', 'channel-gelb-quer', 'channel-gelb-vertikal', 'channel-gelbgruen-laengs', 'channel-gelbgruen-quer', 'channel-gelbgruen-vertikal', 'channel-gruen-laengs', 'channel-gruen-quer', 'channel-gruen-vertikal', 'channel-Laser-X', 'channel-Laser-Z', 'channel-Laser-Z-Glatt', 'channel-lila-laengs', 'channel-lila-quer', 'channel-lila-vertikal', 'channel-rot-laengs', 'channel-rot-quer', 'channel-rot-vertikal', 'channel-schwarz-laengs', 'channel-schwarz-quer', 'channel-schwarz-vertikal', 'channel-weiss-laengs', 'channel-weiss-quer', 'channel-weiss-vertikal']\n",
      "['g', 'g', 'g', 'g', 'g', 'g', 'g', 'g', 'g', 'g', 'g', 'g', 'g', 'g', 'g', 'g', 'g', 'g', 'g', 'g', 'g', 'g', 'g', 'g', 'g', 'g', 'g', 'g', 'g', 'g', 'g', 'g', 'g', 'V', 'V', 'V', 'g', 'g', 'g', 'g', 'g', 'g', 'g', 'g', 'g', 'g', 'g', 'g']\n",
      "['channel-blau-laengs', 'channel-blau-quer', 'channel-blau-vertikal', 'channel-braun-laengs', 'channel-braun-quer', 'channel-braun-vertikal', 'channel-E1-laengs', 'channel-E1-quer', 'channel-E1-vertikal', 'channel-E2-laengs', 'channel-E2-quer', 'channel-E2-vertikal', 'channel-E3-laengs', 'channel-E3-quer', 'channel-E3-vertikal', 'channel-E4-laengs', 'channel-E4-quer', 'channel-E4-vertikal', 'channel-E5-laengs', 'channel-E5-quer', 'channel-E5-vertikal', 'channel-E6-laengs', 'channel-E6-quer', 'channel-E6-vertikal', 'channel-gelb-laengs', 'channel-gelb-quer', 'channel-gelb-vertikal', 'channel-gelbgruen-laengs', 'channel-gelbgruen-quer', 'channel-gelbgruen-vertikal', 'channel-gruen-laengs', 'channel-gruen-quer', 'channel-gruen-vertikal', 'channel-Laser-X', 'channel-Laser-Z', 'channel-Laser-Z-Glatt', 'channel-lila-laengs', 'channel-lila-quer', 'channel-lila-vertikal', 'channel-rot-laengs', 'channel-rot-quer', 'channel-rot-vertikal', 'channel-schwarz-laengs', 'channel-schwarz-quer', 'channel-schwarz-vertikal', 'channel-weiss-laengs', 'channel-weiss-quer', 'channel-weiss-vertikal']\n",
      "['g', 'g', 'g', 'g', 'g', 'g', 'g', 'g', 'g', 'g', 'g', 'g', 'g', 'g', 'g', 'g', 'g', 'g', 'g', 'g', 'g', 'g', 'g', 'g', 'g', 'g', 'g', 'g', 'g', 'g', 'g', 'g', 'g', 'V', 'V', 'V', 'g', 'g', 'g', 'g', 'g', 'g', 'g', 'g', 'g', 'g', 'g', 'g']\n",
      "['channel-blau-laengs', 'channel-blau-quer', 'channel-blau-vertikal', 'channel-braun-laengs', 'channel-braun-quer', 'channel-braun-vertikal', 'channel-E1-laengs', 'channel-E1-quer', 'channel-E1-vertikal', 'channel-E2-laengs', 'channel-E2-quer', 'channel-E2-vertikal', 'channel-E3-laengs', 'channel-E3-quer', 'channel-E3-vertikal', 'channel-E4-laengs', 'channel-E4-quer', 'channel-E4-vertikal', 'channel-E5-laengs', 'channel-E5-quer', 'channel-E5-vertikal', 'channel-E6-laengs', 'channel-E6-quer', 'channel-E6-vertikal', 'channel-gelb-laengs', 'channel-gelb-quer', 'channel-gelb-vertikal', 'channel-gelbgruen-laengs', 'channel-gelbgruen-quer', 'channel-gelbgruen-vertikal', 'channel-gruen-laengs', 'channel-gruen-quer', 'channel-gruen-vertikal', 'channel-Laser-X', 'channel-Laser-Z', 'channel-Laser-Z-Glatt', 'channel-lila-laengs', 'channel-lila-quer', 'channel-lila-vertikal', 'channel-rot-laengs', 'channel-rot-quer', 'channel-rot-vertikal', 'channel-schwarz-laengs', 'channel-schwarz-quer', 'channel-schwarz-vertikal', 'channel-weiss-laengs', 'channel-weiss-quer', 'channel-weiss-vertikal']\n",
      "['g', 'g', 'g', 'g', 'g', 'g', 'g', 'g', 'g', 'g', 'g', 'g', 'g', 'g', 'g', 'g', 'g', 'g', 'g', 'g', 'g', 'g', 'g', 'g', 'g', 'g', 'g', 'g', 'g', 'g', 'g', 'g', 'g', 'V', 'V', 'V', 'g', 'g', 'g', 'g', 'g', 'g', 'g', 'g', 'g', 'g', 'g', 'g']\n",
      "['channel-blau-laengs', 'channel-blau-quer', 'channel-blau-vertikal', 'channel-braun-laengs', 'channel-braun-quer', 'channel-braun-vertikal', 'channel-E1-laengs', 'channel-E1-quer', 'channel-E1-vertikal', 'channel-E2-laengs', 'channel-E2-quer', 'channel-E2-vertikal', 'channel-E3-laengs', 'channel-E3-quer', 'channel-E3-vertikal', 'channel-E4-laengs', 'channel-E4-quer', 'channel-E4-vertikal', 'channel-E5-laengs', 'channel-E5-quer', 'channel-E5-vertikal', 'channel-E6-laengs', 'channel-E6-quer', 'channel-E6-vertikal', 'channel-gelb-laengs', 'channel-gelb-quer', 'channel-gelb-vertikal', 'channel-gelbgruen-laengs', 'channel-gelbgruen-quer', 'channel-gelbgruen-vertikal', 'channel-gruen-laengs', 'channel-gruen-quer', 'channel-gruen-vertikal', 'channel-Laser-X', 'channel-Laser-Z', 'channel-Laser-Z-Glatt', 'channel-lila-laengs', 'channel-lila-quer', 'channel-lila-vertikal', 'channel-rot-laengs', 'channel-rot-quer', 'channel-rot-vertikal', 'channel-schwarz-laengs', 'channel-schwarz-quer', 'channel-schwarz-vertikal', 'channel-weiss-laengs', 'channel-weiss-quer', 'channel-weiss-vertikal']\n",
      "['g', 'g', 'g', 'g', 'g', 'g', 'g', 'g', 'g', 'g', 'g', 'g', 'g', 'g', 'g', 'g', 'g', 'g', 'g', 'g', 'g', 'g', 'g', 'g', 'g', 'g', 'g', 'g', 'g', 'g', 'g', 'g', 'g', 'V', 'V', 'V', 'g', 'g', 'g', 'g', 'g', 'g', 'g', 'g', 'g', 'g', 'g', 'g']\n",
      "['channel-blau-laengs', 'channel-blau-quer', 'channel-blau-vertikal', 'channel-braun-laengs', 'channel-braun-quer', 'channel-braun-vertikal', 'channel-E1-laengs', 'channel-E1-quer', 'channel-E1-vertikal', 'channel-E2-laengs', 'channel-E2-quer', 'channel-E2-vertikal', 'channel-E3-laengs', 'channel-E3-quer', 'channel-E3-vertikal', 'channel-E4-laengs', 'channel-E4-quer', 'channel-E4-vertikal', 'channel-E5-laengs', 'channel-E5-quer', 'channel-E5-vertikal', 'channel-E6-laengs', 'channel-E6-quer', 'channel-E6-vertikal', 'channel-gelb-laengs', 'channel-gelb-quer', 'channel-gelb-vertikal', 'channel-gelbgruen-laengs', 'channel-gelbgruen-quer', 'channel-gelbgruen-vertikal', 'channel-gruen-laengs', 'channel-gruen-quer', 'channel-gruen-vertikal', 'channel-Laser-X', 'channel-Laser-Z', 'channel-Laser-Z-Glatt', 'channel-lila-laengs', 'channel-lila-quer', 'channel-lila-vertikal', 'channel-rot-laengs', 'channel-rot-quer', 'channel-rot-vertikal', 'channel-schwarz-laengs', 'channel-schwarz-quer', 'channel-schwarz-vertikal', 'channel-weiss-laengs', 'channel-weiss-quer', 'channel-weiss-vertikal']\n",
      "['g', 'g', 'g', 'g', 'g', 'g', 'g', 'g', 'g', 'g', 'g', 'g', 'g', 'g', 'g', 'g', 'g', 'g', 'g', 'g', 'g', 'g', 'g', 'g', 'g', 'g', 'g', 'g', 'g', 'g', 'g', 'g', 'g', 'V', 'V', 'V', 'g', 'g', 'g', 'g', 'g', 'g', 'g', 'g', 'g', 'g', 'g', 'g']\n",
      "['channel-blau-laengs', 'channel-blau-quer', 'channel-blau-vertikal', 'channel-braun-laengs', 'channel-braun-quer', 'channel-braun-vertikal', 'channel-E1-laengs', 'channel-E1-quer', 'channel-E1-vertikal', 'channel-E2-laengs', 'channel-E2-quer', 'channel-E2-vertikal', 'channel-E3-laengs', 'channel-E3-quer', 'channel-E3-vertikal', 'channel-E4-laengs', 'channel-E4-quer', 'channel-E4-vertikal', 'channel-E5-laengs', 'channel-E5-quer', 'channel-E5-vertikal', 'channel-E6-laengs', 'channel-E6-quer', 'channel-E6-vertikal', 'channel-gelb-laengs', 'channel-gelb-quer', 'channel-gelb-vertikal', 'channel-gelbgruen-laengs', 'channel-gelbgruen-quer', 'channel-gelbgruen-vertikal', 'channel-gruen-laengs', 'channel-gruen-quer', 'channel-gruen-vertikal', 'channel-Laser-X', 'channel-Laser-Z', 'channel-Laser-Z-Glatt', 'channel-lila-laengs', 'channel-lila-quer', 'channel-lila-vertikal', 'channel-rot-laengs', 'channel-rot-quer', 'channel-rot-vertikal', 'channel-schwarz-laengs', 'channel-schwarz-quer', 'channel-schwarz-vertikal', 'channel-weiss-laengs', 'channel-weiss-quer', 'channel-weiss-vertikal']\n",
      "['g', 'g', 'g', 'g', 'g', 'g', 'g', 'g', 'g', 'g', 'g', 'g', 'g', 'g', 'g', 'g', 'g', 'g', 'g', 'g', 'g', 'g', 'g', 'g', 'g', 'g', 'g', 'g', 'g', 'g', 'g', 'g', 'g', 'V', 'V', 'V', 'g', 'g', 'g', 'g', 'g', 'g', 'g', 'g', 'g', 'g', 'g', 'g']\n"
     ]
    }
   ],
   "source": [
    "import os\n",
    "import json\n",
    "import csv\n",
    "\n",
    "with open(\"./S101-config.json\") as file:\n",
    "\tconfig = json.load(file)\n",
    "\tif \"credentials\" in config: credentials = config[\"credentials\"]\n",
    "\tif \"mainDirectory\" in config: main_dir = config[\"mainDirectory\"]\n",
    "\tif \"exportDirectory\" in config: export_dir = config[\"exportDirectory\"]\n",
    "\n",
    "data_folders = next(os.walk(f\"{main_dir}\"))[1]\n",
    "for folder in data_folders:\n",
    "\tcsv_files = next(os.walk(f\"{main_dir}/{folder}\"))[2]\n",
    "\tfor csv_file in csv_files:\n",
    "\t\twith open(f\"{main_dir}/{folder}/{csv_file}\", newline='') as file:\n",
    "\t\t\tcsv_reader = csv.reader(file, delimiter=';')\n",
    "\t\t\tfor i, row in enumerate(csv_reader):\n",
    "\t\t\t\tif i == 0:\n",
    "\t\t\t\t\tchannel_names = [f\"channel-{channel.replace('_', '-')}\" for channel in row[1:]]\n",
    "\t\t\t\t\tprint(channel_names)\n",
    "\t\t\t\telif i == 1:\n",
    "\t\t\t\t\tchannel_units = row[1:]\n",
    "\t\t\t\t\tprint(channel_units)\n",
    "\t\t\t\telif i > 3:\n",
    "\t\t\t\t\tbreak\n",
    "\n",
    "\n",
    "\n"
   ]
  }
 ],
 "metadata": {
  "kernelspec": {
   "display_name": "Python 3.7.6 ('base')",
   "language": "python",
   "name": "python3"
  },
  "language_info": {
   "codemirror_mode": {
    "name": "ipython",
    "version": 3
   },
   "file_extension": ".py",
   "mimetype": "text/x-python",
   "name": "python",
   "nbconvert_exporter": "python",
   "pygments_lexer": "ipython3",
   "version": "3.7.6"
  },
  "orig_nbformat": 4,
  "vscode": {
   "interpreter": {
    "hash": "f6138c0efd5e477a1590f686aa26798ffd1d338e497fd4adb5aabdf02dd77ae9"
   }
  }
 },
 "nbformat": 4,
 "nbformat_minor": 2
}
