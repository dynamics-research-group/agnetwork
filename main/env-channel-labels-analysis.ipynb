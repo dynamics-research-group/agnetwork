{
 "cells": [
  {
   "cell_type": "code",
   "execution_count": 1,
   "metadata": {},
   "outputs": [
    {
     "name": "stdout",
     "output_type": "stream",
     "text": [
      "number of unique channel names from .env column headings:       46\n",
      "number of channels in raw list from .env files column headings: 48\n",
      "number of channels in the list from Z24 readme:                 49\n",
      "number of channels that Lizzy chose to include:\t                36\n"
     ]
    }
   ],
   "source": [
    "unique_list_from_env_files = ['WS', 'WD', 'AT', 'R', 'H', 'TE', 'ADU', 'ADK', 'TSPU1', 'TSPU2', 'TSPU3', 'TSAU1', 'TSAU2', 'TSAU3', 'TSPK1', 'TSPK2', 'TSPK3', 'TSAK1', 'TSAK2', 'TSAK3', 'TBC1', 'TBC2', 'TSWS1', 'TSWN1', 'TWS1', 'TWC1', 'TWN1', 'TP1', 'TDT1', 'TDS1', 'TS1', 'TSWS2', 'TSWN2', 'TWS2', 'TWC2', 'TWN2', 'TP2', 'TDT2', 'TDS2', 'TS2', 'TWS3', 'TWN3', 'TWC3', 'TP3', 'TDT3', 'TS3']\n",
    "\n",
    "raw_list_from_env_files = \t ['WS', 'WD', 'AT', 'R', 'H', 'TE', 'ADU', 'ADK', 'TSPU1', 'TSPU2', 'TSPU3', 'TSAU1', 'TSAU2', 'TSAU3', 'TSPK1', 'TSPK2', 'TSPK3', 'TSAK1', 'TSAK2', 'TSAK3', 'TBC1', 'TBC2', 'TSWS1', 'TSWN1', 'TWS1', 'TWC1', 'TWN1', 'TP1', 'TDT1', 'TDS1', 'TS1', 'TSWS2', 'TSWN2', 'TWS2', 'TWC2', 'TWN2', 'TP2', 'TDT2', 'TDS2', 'TS2', 'TWS3', 'TWN3', 'TWS3', 'TWC3', 'TWN3', 'TP3', 'TDT3', 'TS3']\n",
    "list_from_readme = \t\t\t ['WS', 'WD', 'AT', 'R', 'H', 'TE', 'ADU', 'ADK', 'TSPU2', 'TSPU2', 'TSPU3', 'TSAU1', 'TSAU2', 'TSAU3', 'TSPK1', 'TSPK2', 'TSPK3', 'TSAK1', 'TSAK2', 'TSAK3', 'TBC1', 'TBC2', 'TSWS1', 'TSWN1', 'TWS1', 'TWC1', 'TWN1', 'TP1', 'TDT1', 'TDS1', 'TS1', 'TSWS2', 'TSWN2', 'TWS2', 'TWC2', 'TWN2', 'TP2', 'TDT2', 'TDS2', 'TS2', 'TSWS3', 'TSWN3', 'TWS3','TWC3', 'TWN3', 'TP3', 'TDT3', 'TDS3', 'TS3']\n",
    "ems_data_labels =\t\t\t\t ['AT', 'H', 'TE', 'ADK', 'TSPU1', 'TSPU2', 'TSAU1', 'TSAU2', 'TSAU3', 'TSPK1', 'TSPK2', 'TSAK1', 'TBC1', 'TBC2', 'TSWS1', 'TSWN1', 'TWS1', 'TWC1', 'TWN1', 'TP1', 'TDS1', 'TS1', 'TSWS2', 'TSWN2', 'TWC2', 'TWN2', 'TP2', 'TDT2', 'TDS2', 'TS2', 'TSWS3', 'TSWN3', 'TWS3', 'TWC3', 'TWN3', 'TDT3']\n",
    "\n",
    "print(f\"number of unique channel names from .env column headings:       {len(unique_list_from_env_files)}\")\n",
    "print(f\"number of channels in raw list from .env files column headings: {len(raw_list_from_env_files)}\")\n",
    "print(f\"number of channels in the list from Z24 readme:                 {len(list_from_readme)}\")\n",
    "print(f\"number of channels from ems.mat data:\t                {len(ems_data_labels)}\")"
   ]
  },
  {
   "cell_type": "code",
   "execution_count": 2,
   "metadata": {},
   "outputs": [
    {
     "name": "stdout",
     "output_type": "stream",
     "text": [
      "C:/Users/Julian Gosliga/Documents/Bridge Data/Z24_bridge_KUL/accelerations/Z24ems1/01C14\n",
      "['01C1403.aaa', '01C1405.aaa', '01C1406.aaa', '01C1407.aaa', '01C1410.aaa', '01C1412.aaa', '01C1414.aaa', '01C1416.aaa', '01C14car.aaa', '01C14POS.env', '01C14PRE.env']\n",
      "number of columns in data list: 53\n",
      "length of first entry in data list: 20\n",
      "length of -1th entry in data list: 20\n"
     ]
    }
   ],
   "source": [
    "import os\n",
    "import json\n",
    "\n",
    "with open(\"./Z24-config.json\") as file:\n",
    "\tconfig = json.load(file)\n",
    "\tmain_dir = config[\"mainDirectory\"]\n",
    "\n",
    "sub_dir = \"/Z24ems1\"\n",
    "\n",
    "data_dir = \"/01C14\"\n",
    "\n",
    "data_list = [[] for i in range(53)]\n",
    "\n",
    "print(f\"{main_dir}{sub_dir}{data_dir}\")\n",
    "\n",
    "# find data files within the first data directory in the first sub directory\n",
    "data_files = next(os.walk(f\"{main_dir}{sub_dir}{data_dir}\"))[2]\n",
    "print(data_files)\n",
    "env_channel_values = {}\n",
    "reformatted_env_sample_timestamps = []\n",
    "# read the data for the POS file\n",
    "# POS_file = [file for file in data_files if file.endswith(\"PRE.env\")]\n",
    "env_files = [file for file in data_files if file.endswith(\"env\")]\n",
    "for env_file in env_files:\n",
    "\twith open(f\"{main_dir}{sub_dir}/{data_dir}/{env_file}\", encoding=\"iso-8859-1\") as file:\n",
    "\t\tfor i, line in enumerate(file):\n",
    "\t\t\tif i == 0:\n",
    "\t\t\t\tchannel_names = line.split()[::2]\n",
    "\t\t\t\t# print(f\"number of channels: {len(channel_names)}\")\n",
    "\t\t\t\t# print(f\"channel names from file: {channel_names}\")\n",
    "\t\t\telif 11 > i >= 1:\n",
    "\t\t\t\traw_data = line.split()\n",
    "\t\t\t\t# print(f\"data line: {raw_data}\")\n",
    "\t\t\t\t# print(f\"entries in data line: {len(raw_data)}\")\n",
    "\t\t\t\tfor j, entry in enumerate(line.split()):\n",
    "\t\t\t\t\tdata_list[j].append(float(entry))\n",
    "\t\t\t\t\t# print(j)\n",
    "\n",
    "print(f\"number of columns in data list: {len(data_list)}\")\n",
    "print(f\"length of first entry in data list: {len(data_list[0])}\")\n",
    "n = -1\n",
    "print(f\"length of {n}th entry in data list: {len(data_list[n])}\")"
   ]
  },
  {
   "cell_type": "code",
   "execution_count": 30,
   "metadata": {},
   "outputs": [
    {
     "name": "stdout",
     "output_type": "stream",
     "text": [
      "[-0.000171666, -7.803e-05, 0.518636065, -1.87996795, 0.727991305, -1.48842755, -1.85554455, -1.9000531, 7.3, 7.585, -242.7, 6.93, 8.42, 9.87, 6.915, 5.655, 9.06, 7.125, 7.895, 8.04, 6.59, 6.625, 5.525, 5.305, 4.69, 5.05, 4.88, 7.55, 3276.7, 6.525, 4.895, 6.94, 4.71, 3276.7, 4.905, 7.74, 7.465, 5.2, 5.555, 6.21, 5.53, 5.235, 5.495, 9.1, 7.23, 3276.7, 7.6, -244.3, -244.295, -244.235, -244.205, -244.28, -244.255]\n"
     ]
    }
   ],
   "source": [
    "import pandas as pd\n",
    "\n",
    "env_channel_data = pd.DataFrame(data_list).transpose()\n",
    "# env_channel_data.columns = [i for i in range(53)]\n",
    "env_channel_data.columns = [i for i in range(53)]\n",
    "pd.set_option('display.max_columns', None)\n",
    "# env_channel_data.head()\n",
    "channel_data_means = env_channel_data.describe(percentiles=[]).transpose()['mean'].tolist()\n",
    "channel_data_means_rounded = [round(float(item), 9) for item in channel_data_means]\n",
    "print(channel_data_means_rounded)"
   ]
  },
  {
   "cell_type": "code",
   "execution_count": 32,
   "metadata": {},
   "outputs": [
    {
     "name": "stdout",
     "output_type": "stream",
     "text": [
      "{'AT': 2, 'H': 4, 'TE': 5, 'ADK': 6, 'TSPU1': 8, 'TSPU2': 9, 'TSAU1': 11, 'TSAU2': 12, 'TSAU3': 13, 'TSPK1': 14, 'TSPK2': 15, 'TSAK1': 17, 'TBC1': 20, 'TBC2': 21, 'TSWS1': 22, 'TSWN1': 23, 'TWS1': 24, 'TWC1': 25, 'TWN1': 26, 'TP1': 27, 'TDS1': 29, 'TS1': 30, 'TSWS2': 31, 'TSWN2': 32, 'TWC2': 34, 'TWN2': 35, 'TP2': 36, 'TDT2': 37, 'TDS2': 38, 'TS2': 39, 'TSWS3': 40, 'TSWN3': 41, 'TWS3': 42, 'TWC3': 43, 'TWN3': 44, 'TDT3': 46}\n"
     ]
    }
   ],
   "source": [
    "import pandas as pd\n",
    "\n",
    "data_from_mat_file_as_str = \"0.518636065000000\t0.727991305000000\t-1.48842755000000\t-1.85554455000000\t7.30000000000000\t7.58500000000000\t6.93000000000000\t8.42000000000000\t9.87000000000000\t6.91500000000000\t5.65500000000000\t7.12500000000000\t6.59000000000000\t6.62500000000000\t5.52500000000000\t5.30500000000000\t4.69000000000000\t5.05000000000000\t4.88000000000000\t7.55000000000000\t6.52500000000000\t4.89500000000000\t6.94000000000000\t4.71000000000000\t4.90500000000000\t7.74000000000000\t7.46500000000000\t5.20000000000000\t5.55500000000000\t6.21000000000000\t5.53000000000000\t5.23500000000000\t5.49500000000000\t9.10000000000000\t7.23000000000000\t7.60000000000000\"\n",
    "data_from_mat_file = data_from_mat_file_as_str.split()\n",
    "data_from_mat_file_as_float = [float(data) for data in data_from_mat_file]\n",
    "\n",
    "mat_file_channel_data = pd.DataFrame(data_from_mat_file_as_float).transpose()\n",
    "mat_file_channel_data.columns = ems_data_labels\n",
    "pd.set_option('display.max_columns', None)\n",
    "\n",
    "channel_mappings = {}\n",
    "for index, row in mat_file_channel_data.transpose().iterrows():\n",
    "    row_data = round(row[0], 9)\n",
    "    if row_data in channel_data_means_rounded:\n",
    "        channel_mappings[index] = channel_data_means_rounded.index(row_data)\n",
    "\n",
    "print(channel_mappings)"
   ]
  }
 ],
 "metadata": {
  "kernelspec": {
   "display_name": "Python 3.10.5 64-bit",
   "language": "python",
   "name": "python3"
  },
  "language_info": {
   "codemirror_mode": {
    "name": "ipython",
    "version": 3
   },
   "file_extension": ".py",
   "mimetype": "text/x-python",
   "name": "python",
   "nbconvert_exporter": "python",
   "pygments_lexer": "ipython3",
   "version": "3.10.5"
  },
  "orig_nbformat": 4,
  "vscode": {
   "interpreter": {
    "hash": "7b1110b61dced1641dccdd8d71f876cc1ef9914396bc4fd3c4f6e92ba09b26db"
   }
  }
 },
 "nbformat": 4,
 "nbformat_minor": 2
}
