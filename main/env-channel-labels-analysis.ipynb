{
 "cells": [
  {
   "cell_type": "code",
   "execution_count": 15,
   "metadata": {},
   "outputs": [
    {
     "name": "stdout",
     "output_type": "stream",
     "text": [
      "number of channels in raw list from .env files column headings: 48\n",
      "number of channels in the list from Z24 readme:                 49\n",
      "number of channels that Lizzy chose to include:\t                36\n"
     ]
    }
   ],
   "source": [
    "unique_list_from_env_files = ['WS', 'WD', 'AT', 'R', 'H', 'TE', 'ADU', 'ADK', 'TSPU1', 'TSPU2', 'TSPU3', 'TSAU1', 'TSAU2', 'TSAU3', 'TSPK1', 'TSPK2', 'TSPK3', 'TSAK1', 'TSAK2', 'TSAK3', 'TBC1', 'TBC2', 'TSWS1', 'TSWN1', 'TWS1', 'TWC1', 'TWN1', 'TP1', 'TDT1', 'TDS1', 'TS1', 'TSWS2', 'TSWN2', 'TWS2', 'TWC2', 'TWN2', 'TP2', 'TDT2', 'TDS2', 'TS2', 'TWS3', 'TWN3', 'TWC3', 'TP3', 'TDT3', 'TS3']\n",
    "\n",
    "raw_list_from_env_files = \t ['WS', 'WD', 'AT', 'R', 'H', 'TE', 'ADU', 'ADK', 'TSPU1', 'TSPU2', 'TSPU3', 'TSAU1', 'TSAU2', 'TSAU3', 'TSPK1', 'TSPK2', 'TSPK3', 'TSAK1', 'TSAK2', 'TSAK3', 'TBC1', 'TBC2', 'TSWS1', 'TSWN1', 'TWS1', 'TWC1', 'TWN1', 'TP1', 'TDT1', 'TDS1', 'TS1', 'TSWS2', 'TSWN2', 'TWS2', 'TWC2', 'TWN2', 'TP2', 'TDT2', 'TDS2', 'TS2', 'TWS3', 'TWN3', 'TWS3', 'TWC3', 'TWN3', 'TP3', 'TDT3', 'TS3']\n",
    "list_from_readme = \t\t\t ['WS', 'WD', 'AT', 'R', 'H', 'TE', 'ADU', 'ADK', 'TSPU2', 'TSPU2', 'TSPU3', 'TSAU1', 'TSAU2', 'TSAU3', 'TSPK1', 'TSPK2', 'TSPK3', 'TSAK1', 'TSAK2', 'TSAK3', 'TBC1', 'TBC2', 'TSWS1', 'TSWN1', 'TWS1', 'TWC1', 'TWN1', 'TP1', 'TDT1', 'TDS1', 'TS1', 'TSWS2', 'TSWN2', 'TWS2', 'TWC2', 'TWN2', 'TP2', 'TDT2', 'TDS2', 'TS2', 'TSWS3', 'TSWN3', 'TWS3','TWC3', 'TWN3', 'TP3', 'TDT3', 'TDS3', 'TS3']\n",
    "lizzy_labels =\t\t\t\t ['AT', 'H', 'TE', 'ADK', 'TSPU1', 'TSPU2', 'TSAU1', 'TSAU2', 'TSAU3', 'TSPK1', 'TSPK2', 'TSAK1', 'TBC1', 'TBC2', 'TSWS1', 'TSWN1', 'TWS1', 'TWC1', 'TWN1', 'TP1', 'TDS1', 'TS1', 'TSWS2', 'TSWN2', 'TWC2', 'TWN2', 'TP2', 'TDT2', 'TDS2', 'TS2', 'TSWS3', 'TSWN3', 'TWS3', 'TWC3', 'TWN3', 'TDT3']\n",
    "\n",
    "print(f\"number of channels in raw list from .env files column headings: {len(raw_list_from_env_files)}\")\n",
    "print(f\"number of channels in the list from Z24 readme:                 {len(list_from_readme)}\")\n",
    "print(f\"number of channels that Lizzy chose to include:\t                {len(lizzy_labels)}\")"
   ]
  },
  {
   "cell_type": "code",
   "execution_count": 31,
   "metadata": {},
   "outputs": [
    {
     "name": "stdout",
     "output_type": "stream",
     "text": [
      "number of columns in data list: 53\n",
      "length of first entry in data list: 36340\n",
      "lenght of -1th entry in data list: 36340\n"
     ]
    }
   ],
   "source": [
    "import os\n",
    "\n",
    "main_dir = \"/Users/Julian/Documents/WorkDocuments/Z24-S101-mini-project/S101-and-Z24-demonstrator/Z24_bridge_KUL/accelerations\"\n",
    "\n",
    "sub_dirs = [\"/Z24ems1\", \"/Z24ems2\", \"/Z24ems3\"]\n",
    "\n",
    "data_list = [[] for i in range(53)]\n",
    "\n",
    "# find data directories in first sub directory\n",
    "data_dirs = next(os.walk(f\"{main_dir}{sub_dirs[0]}\"))[1]\n",
    "for dd in data_dirs:\n",
    "\t# find data files within the first data directory in the first sub directory\n",
    "\tdata_files = next(os.walk(f\"{main_dir}{sub_dirs[0]}/{dd}\"))[2]\n",
    "\t# find the environmental files in the data directory\n",
    "\tenvironmental_files = [file for file in data_files if file.endswith(\"env\")]\n",
    "\tenv_channel_values = {}\n",
    "\treformatted_env_sample_timestamps = []\n",
    "\tfor env_file in environmental_files:\n",
    "\t\twith open(f\"{main_dir}{sub_dirs[0]}/{dd}/{env_file}\", encoding=\"iso-8859-1\") as file:\n",
    "\t\t\tfor i, line in enumerate(file):\n",
    "\t\t\t\tif i == 0:\n",
    "\t\t\t\t\tchannel_names = line.split()[::2]\n",
    "\t\t\t\t\t# print(f\"number of channels: {len(channel_names)}\")\n",
    "\t\t\t\t\t# print(f\"channel names from file: {channel_names}\")\n",
    "\t\t\t\telif 11 > i >= 1:\n",
    "\t\t\t\t\traw_data = line.split()\n",
    "\t\t\t\t\t# print(f\"data line: {raw_data}\")\n",
    "\t\t\t\t\t# print(f\"entries in data line: {len(raw_data)}\")\n",
    "\t\t\t\t\tfor j, entry in enumerate(line.split()):\n",
    "\t\t\t\t\t\tdata_list[j].append(float(entry))\n",
    "\t\t\t\t\t\t# print(j)\n",
    "\n",
    "print(f\"number of columns in data list: {len(data_list)}\")\n",
    "print(f\"length of first entry in data list: {len(data_list[0])}\")\n",
    "n = -1\n",
    "print(f\"length of {n}th entry in data list: {len(data_list[n])}\")"
   ]
  }
 ],
 "metadata": {
  "kernelspec": {
   "display_name": "Python 3.7.6 ('base')",
   "language": "python",
   "name": "python3"
  },
  "language_info": {
   "codemirror_mode": {
    "name": "ipython",
    "version": 3
   },
   "file_extension": ".py",
   "mimetype": "text/x-python",
   "name": "python",
   "nbconvert_exporter": "python",
   "pygments_lexer": "ipython3",
   "version": "3.7.6"
  },
  "orig_nbformat": 4,
  "vscode": {
   "interpreter": {
    "hash": "f6138c0efd5e477a1590f686aa26798ffd1d338e497fd4adb5aabdf02dd77ae9"
   }
  }
 },
 "nbformat": 4,
 "nbformat_minor": 2
}
